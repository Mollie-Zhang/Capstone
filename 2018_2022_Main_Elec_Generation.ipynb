{
 "cells": [
  {
   "cell_type": "code",
   "execution_count": 1,
   "id": "99606eb1",
   "metadata": {},
   "outputs": [],
   "source": [
    "import pandas as pd"
   ]
  },
  {
   "cell_type": "code",
   "execution_count": 2,
   "id": "bed2cfca",
   "metadata": {},
   "outputs": [],
   "source": [
    "# List of 5 yearly dataset filenames\n",
    "dataset_filenames = [\n",
    "    '/Users/Yifee/Desktop/MZHANG/2022 Electricity Monthly Archive/temp_2022.csv',\n",
    "    '/Users/Yifee/Desktop/MZHANG/2021 Electricity Monthly Archive/temp_2021.csv',\n",
    "    '/Users/Yifee/Desktop/MZHANG/2020 Electricity Monthly Archive/temp_2020.csv',\n",
    "    '/Users/Yifee/Desktop/MZHANG/2019 Electricity Monthly Archive/temp_2019.csv',\n",
    "    '/Users/Yifee/Desktop/MZHANG/2018 Electricity Monthly Archive/temp_2018.csv'\n",
    "]"
   ]
  },
  {
   "cell_type": "code",
   "execution_count": 3,
   "id": "820a7736",
   "metadata": {},
   "outputs": [],
   "source": [
    "# List to store the yearly dataframes\n",
    "yearly_dataframes = []"
   ]
  },
  {
   "cell_type": "code",
   "execution_count": 4,
   "id": "8b05679c",
   "metadata": {},
   "outputs": [],
   "source": [
    "# Iterate over each dataset filename\n",
    "for filename in dataset_filenames:\n",
    "    # Open the monthly dataset\n",
    "    dataset = pd.read_csv(filename)\n",
    "    \n",
    "    # Add a new column 'Year'\n",
    "    dataset['Year'] = int(filename[-8:-4])  # Extract the year from the filename\n",
    "    \n",
    "    #Rename column ‘REGIONID’ to ‘Region’\n",
    "    dataset = dataset.rename(columns={'Fuel Source - Primary': 'Fuel Source'})\n",
    "    \n",
    "    # Drop the column 'DUID', 'Station Name', 'SCADAVALUE', ‘Dispatch Type’, ‘Unit Size (MW)’\n",
    "    dataset = dataset.drop('DUID', axis=1)\n",
    "    dataset = dataset.drop('Station Name', axis=1)\n",
    "    dataset = dataset.drop('SCADAVALUE', axis=1)\n",
    "    dataset = dataset.drop('Dispatch Type', axis=1)\n",
    "    dataset = dataset.drop('Unit Size (MW)', axis=1)\n",
    "    \n",
    "    # Reorder the columns following: Year|Month|Region|Fuel Source|Electricity Generation (MWh)\n",
    "    column_order = ['Year','Month','Region','Fuel Source','Electricity Generation (MWh)']\n",
    "    dataset = dataset[column_order]\n",
    "    \n",
    "    # Append the monthly dataset to the list\n",
    "    yearly_dataframes.append(dataset)"
   ]
  },
  {
   "cell_type": "code",
   "execution_count": 5,
   "id": "43eae411",
   "metadata": {},
   "outputs": [
    {
     "data": {
      "text/html": [
       "<div>\n",
       "<style scoped>\n",
       "    .dataframe tbody tr th:only-of-type {\n",
       "        vertical-align: middle;\n",
       "    }\n",
       "\n",
       "    .dataframe tbody tr th {\n",
       "        vertical-align: top;\n",
       "    }\n",
       "\n",
       "    .dataframe thead th {\n",
       "        text-align: right;\n",
       "    }\n",
       "</style>\n",
       "<table border=\"1\" class=\"dataframe\">\n",
       "  <thead>\n",
       "    <tr style=\"text-align: right;\">\n",
       "      <th></th>\n",
       "      <th>Year</th>\n",
       "      <th>Month</th>\n",
       "      <th>Region</th>\n",
       "      <th>Fuel Source</th>\n",
       "      <th>Electricity Generation (MWh)</th>\n",
       "    </tr>\n",
       "  </thead>\n",
       "  <tbody>\n",
       "    <tr>\n",
       "      <th>0</th>\n",
       "      <td>2022</td>\n",
       "      <td>1</td>\n",
       "      <td>SA</td>\n",
       "      <td>Battery storage</td>\n",
       "      <td>26.69</td>\n",
       "    </tr>\n",
       "    <tr>\n",
       "      <th>1</th>\n",
       "      <td>2022</td>\n",
       "      <td>1</td>\n",
       "      <td>SA</td>\n",
       "      <td>Solar</td>\n",
       "      <td>151.98</td>\n",
       "    </tr>\n",
       "    <tr>\n",
       "      <th>2</th>\n",
       "      <td>2022</td>\n",
       "      <td>1</td>\n",
       "      <td>SA</td>\n",
       "      <td>Fossil</td>\n",
       "      <td>7203.53</td>\n",
       "    </tr>\n",
       "    <tr>\n",
       "      <th>3</th>\n",
       "      <td>2022</td>\n",
       "      <td>1</td>\n",
       "      <td>VIC</td>\n",
       "      <td>Fossil</td>\n",
       "      <td>376.90</td>\n",
       "    </tr>\n",
       "    <tr>\n",
       "      <th>4</th>\n",
       "      <td>2022</td>\n",
       "      <td>1</td>\n",
       "      <td>SA</td>\n",
       "      <td>Fossil</td>\n",
       "      <td>191.26</td>\n",
       "    </tr>\n",
       "    <tr>\n",
       "      <th>...</th>\n",
       "      <td>...</td>\n",
       "      <td>...</td>\n",
       "      <td>...</td>\n",
       "      <td>...</td>\n",
       "      <td>...</td>\n",
       "    </tr>\n",
       "    <tr>\n",
       "      <th>17264</th>\n",
       "      <td>2018</td>\n",
       "      <td>12</td>\n",
       "      <td>QLD</td>\n",
       "      <td>Fossil</td>\n",
       "      <td>97907.33</td>\n",
       "    </tr>\n",
       "    <tr>\n",
       "      <th>17265</th>\n",
       "      <td>2018</td>\n",
       "      <td>12</td>\n",
       "      <td>VIC</td>\n",
       "      <td>Wind</td>\n",
       "      <td>4924.70</td>\n",
       "    </tr>\n",
       "    <tr>\n",
       "      <th>17266</th>\n",
       "      <td>2018</td>\n",
       "      <td>12</td>\n",
       "      <td>VIC</td>\n",
       "      <td>Fossil</td>\n",
       "      <td>209577.51</td>\n",
       "    </tr>\n",
       "    <tr>\n",
       "      <th>17267</th>\n",
       "      <td>2018</td>\n",
       "      <td>12</td>\n",
       "      <td>VIC</td>\n",
       "      <td>Fossil</td>\n",
       "      <td>242737.74</td>\n",
       "    </tr>\n",
       "    <tr>\n",
       "      <th>17268</th>\n",
       "      <td>2018</td>\n",
       "      <td>12</td>\n",
       "      <td>VIC</td>\n",
       "      <td>Fossil</td>\n",
       "      <td>275079.42</td>\n",
       "    </tr>\n",
       "  </tbody>\n",
       "</table>\n",
       "<p>17269 rows × 5 columns</p>\n",
       "</div>"
      ],
      "text/plain": [
       "       Year  Month Region      Fuel Source  Electricity Generation (MWh)\n",
       "0      2022      1     SA  Battery storage                         26.69\n",
       "1      2022      1     SA            Solar                        151.98\n",
       "2      2022      1     SA           Fossil                       7203.53\n",
       "3      2022      1    VIC           Fossil                        376.90\n",
       "4      2022      1     SA           Fossil                        191.26\n",
       "...     ...    ...    ...              ...                           ...\n",
       "17264  2018     12    QLD           Fossil                      97907.33\n",
       "17265  2018     12    VIC             Wind                       4924.70\n",
       "17266  2018     12    VIC           Fossil                     209577.51\n",
       "17267  2018     12    VIC           Fossil                     242737.74\n",
       "17268  2018     12    VIC           Fossil                     275079.42\n",
       "\n",
       "[17269 rows x 5 columns]"
      ]
     },
     "execution_count": 5,
     "metadata": {},
     "output_type": "execute_result"
    }
   ],
   "source": [
    "# Concatenate the monthly dataframes vertically to get the yearly electricity generation dataframe\n",
    "fiveyears_df = pd.concat(yearly_dataframes, ignore_index=True)\n",
    "fiveyears_df"
   ]
  },
  {
   "cell_type": "code",
   "execution_count": 6,
   "id": "dcc7359a",
   "metadata": {},
   "outputs": [
    {
     "data": {
      "text/plain": [
       "Year                            0\n",
       "Month                           0\n",
       "Region                          0\n",
       "Fuel Source                     0\n",
       "Electricity Generation (MWh)    0\n",
       "dtype: int64"
      ]
     },
     "execution_count": 6,
     "metadata": {},
     "output_type": "execute_result"
    }
   ],
   "source": [
    "fiveyears_df.isnull().sum()"
   ]
  },
  {
   "cell_type": "code",
   "execution_count": 7,
   "id": "fc823831",
   "metadata": {},
   "outputs": [],
   "source": [
    "#Save the sheet as the 5 years rooftop pv dataset\n",
    "fiveyears_df.to_csv('2018_2022_Main_Elec_Generation.csv', index=False)"
   ]
  }
 ],
 "metadata": {
  "kernelspec": {
   "display_name": "Python 3 (ipykernel)",
   "language": "python",
   "name": "python3"
  },
  "language_info": {
   "codemirror_mode": {
    "name": "ipython",
    "version": 3
   },
   "file_extension": ".py",
   "mimetype": "text/x-python",
   "name": "python",
   "nbconvert_exporter": "python",
   "pygments_lexer": "ipython3",
   "version": "3.10.9"
  }
 },
 "nbformat": 4,
 "nbformat_minor": 5
}
