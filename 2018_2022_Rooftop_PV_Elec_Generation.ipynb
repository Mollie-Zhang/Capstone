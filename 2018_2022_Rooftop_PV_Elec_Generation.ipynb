{
 "cells": [
  {
   "cell_type": "code",
   "execution_count": 1,
   "id": "eff78b4f",
   "metadata": {},
   "outputs": [],
   "source": [
    "import pandas as pd"
   ]
  },
  {
   "cell_type": "code",
   "execution_count": 2,
   "id": "bd73396a",
   "metadata": {},
   "outputs": [],
   "source": [
    "# List of 5 yearly dataset filenames\n",
    "dataset_filenames = [\n",
    "    '/Users/Yifee/Desktop/MZHANG/2018 Rooftop PV/aggregatedREGIONID_PV_2018.csv',\n",
    "    '/Users/Yifee/Desktop/MZHANG/2019 Rooftop PV/aggregatedREGIONID_PV_2019.csv',\n",
    "    '/Users/Yifee/Desktop/MZHANG/2020 Rooftop PV/aggregatedREGIONID_PV_2020.csv',\n",
    "    '/Users/Yifee/Desktop/MZHANG/2021 Rooftop PV/aggregatedREGIONID_PV_2021.csv',\n",
    "    '/Users/Yifee/Desktop/MZHANG/2022 Rooftop PV/aggregatedREGIONID_PV_2022.csv'\n",
    "]"
   ]
  },
  {
   "cell_type": "code",
   "execution_count": 3,
   "id": "863e1e22",
   "metadata": {},
   "outputs": [],
   "source": [
    "# List to store the yearly dataframes\n",
    "yearly_dataframes = []"
   ]
  },
  {
   "cell_type": "code",
   "execution_count": 7,
   "id": "a1254c5e",
   "metadata": {},
   "outputs": [],
   "source": [
    "# Iterate over each dataset filename\n",
    "for filename in dataset_filenames:\n",
    "    # Open the monthly dataset\n",
    "    dataset = pd.read_csv(filename)\n",
    "    \n",
    "    # Add a new column 'Year'\n",
    "    dataset['Year'] = int(filename[-8:-4])  # Extract the year from the filename\n",
    "    \n",
    "    # Add a new column 'Fuel Source'\n",
    "    dataset['Fuel Source'] = 'Solar'  # fill in ‘Solar’ \n",
    "    \n",
    "    #Rename column ‘REGIONID’ to ‘Region’\n",
    "    dataset = dataset.rename(columns={'REGIONID': 'Region'})\n",
    "    \n",
    "    # Drop the column 'POWER'\n",
    "    dataset = dataset.drop('POWER', axis=1)\n",
    "    \n",
    "    # Reorder the columns following: Year|Month|Region|Fuel Source|Electricity Generation (MWh)\n",
    "    column_order = ['Year','Month','Region','Fuel Source','Electricity Generation (MWh)']\n",
    "    dataset = dataset[column_order]\n",
    "    \n",
    "    # Append the monthly dataset to the list\n",
    "    yearly_dataframes.append(dataset)"
   ]
  },
  {
   "cell_type": "code",
   "execution_count": 8,
   "id": "412bfc42",
   "metadata": {},
   "outputs": [
    {
     "data": {
      "text/html": [
       "<div>\n",
       "<style scoped>\n",
       "    .dataframe tbody tr th:only-of-type {\n",
       "        vertical-align: middle;\n",
       "    }\n",
       "\n",
       "    .dataframe tbody tr th {\n",
       "        vertical-align: top;\n",
       "    }\n",
       "\n",
       "    .dataframe thead th {\n",
       "        text-align: right;\n",
       "    }\n",
       "</style>\n",
       "<table border=\"1\" class=\"dataframe\">\n",
       "  <thead>\n",
       "    <tr style=\"text-align: right;\">\n",
       "      <th></th>\n",
       "      <th>Year</th>\n",
       "      <th>Month</th>\n",
       "      <th>Region</th>\n",
       "      <th>Fuel Source</th>\n",
       "      <th>Electricity Generation (MWh)</th>\n",
       "    </tr>\n",
       "  </thead>\n",
       "  <tbody>\n",
       "    <tr>\n",
       "      <th>0</th>\n",
       "      <td>2018</td>\n",
       "      <td>1</td>\n",
       "      <td>NSW</td>\n",
       "      <td>Solar</td>\n",
       "      <td>196422.56</td>\n",
       "    </tr>\n",
       "    <tr>\n",
       "      <th>1</th>\n",
       "      <td>2018</td>\n",
       "      <td>1</td>\n",
       "      <td>QLD</td>\n",
       "      <td>Solar</td>\n",
       "      <td>288434.06</td>\n",
       "    </tr>\n",
       "    <tr>\n",
       "      <th>2</th>\n",
       "      <td>2018</td>\n",
       "      <td>1</td>\n",
       "      <td>SA</td>\n",
       "      <td>Solar</td>\n",
       "      <td>124545.47</td>\n",
       "    </tr>\n",
       "    <tr>\n",
       "      <th>3</th>\n",
       "      <td>2018</td>\n",
       "      <td>1</td>\n",
       "      <td>TAS</td>\n",
       "      <td>Solar</td>\n",
       "      <td>17014.18</td>\n",
       "    </tr>\n",
       "    <tr>\n",
       "      <th>4</th>\n",
       "      <td>2018</td>\n",
       "      <td>1</td>\n",
       "      <td>VIC</td>\n",
       "      <td>Solar</td>\n",
       "      <td>172528.62</td>\n",
       "    </tr>\n",
       "    <tr>\n",
       "      <th>...</th>\n",
       "      <td>...</td>\n",
       "      <td>...</td>\n",
       "      <td>...</td>\n",
       "      <td>...</td>\n",
       "      <td>...</td>\n",
       "    </tr>\n",
       "    <tr>\n",
       "      <th>295</th>\n",
       "      <td>2022</td>\n",
       "      <td>12</td>\n",
       "      <td>NSW</td>\n",
       "      <td>Solar</td>\n",
       "      <td>795479.05</td>\n",
       "    </tr>\n",
       "    <tr>\n",
       "      <th>296</th>\n",
       "      <td>2022</td>\n",
       "      <td>12</td>\n",
       "      <td>QLD</td>\n",
       "      <td>Solar</td>\n",
       "      <td>713714.95</td>\n",
       "    </tr>\n",
       "    <tr>\n",
       "      <th>297</th>\n",
       "      <td>2022</td>\n",
       "      <td>12</td>\n",
       "      <td>SA</td>\n",
       "      <td>Solar</td>\n",
       "      <td>342920.71</td>\n",
       "    </tr>\n",
       "    <tr>\n",
       "      <th>298</th>\n",
       "      <td>2022</td>\n",
       "      <td>12</td>\n",
       "      <td>TAS</td>\n",
       "      <td>Solar</td>\n",
       "      <td>37384.91</td>\n",
       "    </tr>\n",
       "    <tr>\n",
       "      <th>299</th>\n",
       "      <td>2022</td>\n",
       "      <td>12</td>\n",
       "      <td>VIC</td>\n",
       "      <td>Solar</td>\n",
       "      <td>576142.46</td>\n",
       "    </tr>\n",
       "  </tbody>\n",
       "</table>\n",
       "<p>300 rows × 5 columns</p>\n",
       "</div>"
      ],
      "text/plain": [
       "     Year  Month Region Fuel Source  Electricity Generation (MWh)\n",
       "0    2018      1    NSW       Solar                     196422.56\n",
       "1    2018      1    QLD       Solar                     288434.06\n",
       "2    2018      1     SA       Solar                     124545.47\n",
       "3    2018      1    TAS       Solar                      17014.18\n",
       "4    2018      1    VIC       Solar                     172528.62\n",
       "..    ...    ...    ...         ...                           ...\n",
       "295  2022     12    NSW       Solar                     795479.05\n",
       "296  2022     12    QLD       Solar                     713714.95\n",
       "297  2022     12     SA       Solar                     342920.71\n",
       "298  2022     12    TAS       Solar                      37384.91\n",
       "299  2022     12    VIC       Solar                     576142.46\n",
       "\n",
       "[300 rows x 5 columns]"
      ]
     },
     "execution_count": 8,
     "metadata": {},
     "output_type": "execute_result"
    }
   ],
   "source": [
    "# Concatenate the monthly dataframes vertically to get the yearly electricity generation dataframe\n",
    "fiveyears_df = pd.concat(yearly_dataframes, ignore_index=True)\n",
    "fiveyears_df"
   ]
  },
  {
   "cell_type": "code",
   "execution_count": 9,
   "id": "115454b6",
   "metadata": {},
   "outputs": [
    {
     "data": {
      "text/plain": [
       "Year                            0\n",
       "Month                           0\n",
       "Region                          0\n",
       "Fuel Source                     0\n",
       "Electricity Generation (MWh)    0\n",
       "dtype: int64"
      ]
     },
     "execution_count": 9,
     "metadata": {},
     "output_type": "execute_result"
    }
   ],
   "source": [
    "fiveyears_df.isnull().sum()"
   ]
  },
  {
   "cell_type": "code",
   "execution_count": 10,
   "id": "6b9c5b15",
   "metadata": {},
   "outputs": [],
   "source": [
    "#Save the sheet as the 5 years rooftop pv dataset\n",
    "fiveyears_df.to_csv('2018_2022_Rooftop_PV_Elec_Generation.csv', index=False)"
   ]
  }
 ],
 "metadata": {
  "kernelspec": {
   "display_name": "Python 3 (ipykernel)",
   "language": "python",
   "name": "python3"
  },
  "language_info": {
   "codemirror_mode": {
    "name": "ipython",
    "version": 3
   },
   "file_extension": ".py",
   "mimetype": "text/x-python",
   "name": "python",
   "nbconvert_exporter": "python",
   "pygments_lexer": "ipython3",
   "version": "3.10.9"
  }
 },
 "nbformat": 4,
 "nbformat_minor": 5
}
